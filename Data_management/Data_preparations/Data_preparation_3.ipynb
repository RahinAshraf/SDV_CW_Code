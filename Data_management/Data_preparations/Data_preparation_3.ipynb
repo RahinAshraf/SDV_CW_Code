{
 "cells": [
  {
   "cell_type": "code",
   "execution_count": null,
   "id": "e69cdaf4",
   "metadata": {},
   "outputs": [],
   "source": [
    "import pandas as pd\n",
    "import warnings\n",
    "warnings.filterwarnings('ignore')"
   ]
  },
  {
   "cell_type": "code",
   "execution_count": null,
   "id": "38996a07",
   "metadata": {},
   "outputs": [],
   "source": [
    "df = pd.read_excel('needed_income-of-tax-payers.xlsx', skiprows=1)\n",
    "df.set_index(['area'], inplace=True)\n",
    "df.head()"
   ]
  },
  {
   "cell_type": "code",
   "execution_count": null,
   "id": "8f29277c",
   "metadata": {},
   "outputs": [],
   "source": [
    "pip install openpyxl"
   ]
  },
  {
   "cell_type": "code",
   "execution_count": null,
   "id": "b8d02a12",
   "metadata": {},
   "outputs": [],
   "source": [
    "# Split the DataFrame into 5 separate DataFrames and store them in a list\n",
    "dfs = [df.iloc[:, i:i+3] for i in range(0, df.shape[1], 3)]\n",
    "\n",
    "years_to_have = [1999, 2002, 2008, 2014, 2019]\n",
    "\n",
    "for i in range(len(dfs)):\n",
    "    dfs[i].columns = ['Number of Individuals', 'Mean £', 'Median £']\n",
    "    dfs[i]['year'] = years_to_have[i]\n",
    "\n",
    "# Concatenate the DataFrames vertically to get a 500x3 DataFrame\n",
    "new_df = pd.concat(dfs, axis=0).reset_index(drop=False)"
   ]
  },
  {
   "cell_type": "code",
   "execution_count": null,
   "id": "efb89918",
   "metadata": {},
   "outputs": [],
   "source": [
    "new_df.sort_values(['year', 'area'], inplace=True)\n",
    "new_df.reset_index(inplace=True, drop=True)\n",
    "new_df['area'] = new_df['area'].str.lower()\n",
    "new_df"
   ]
  },
  {
   "cell_type": "code",
   "execution_count": null,
   "id": "69e56461",
   "metadata": {},
   "outputs": [],
   "source": [
    "df = pd.read_csv('test.csv')\n",
    "df.sort_values(['year', 'area'], inplace=True)\n",
    "df.drop(['year', 'date'], inplace=True, axis=1)\n",
    "df = df.rename(columns={'area': 'area1'})\n",
    "\n",
    "df"
   ]
  },
  {
   "cell_type": "code",
   "execution_count": null,
   "id": "184ba489",
   "metadata": {},
   "outputs": [],
   "source": [
    "temp = pd.concat([new_df, df], axis=1)\n",
    "temp.head(10)"
   ]
  },
  {
   "cell_type": "code",
   "execution_count": null,
   "id": "816fa327",
   "metadata": {},
   "outputs": [],
   "source": [
    "temp.to_csv(\"Complete_dataset.csv\")"
   ]
  }
 ],
 "metadata": {
  "kernelspec": {
   "display_name": "Python 3 (ipykernel)",
   "language": "python",
   "name": "python3"
  },
  "language_info": {
   "codemirror_mode": {
    "name": "ipython",
    "version": 3
   },
   "file_extension": ".py",
   "mimetype": "text/x-python",
   "name": "python",
   "nbconvert_exporter": "python",
   "pygments_lexer": "ipython3",
   "version": "3.9.7"
  }
 },
 "nbformat": 4,
 "nbformat_minor": 5
}
