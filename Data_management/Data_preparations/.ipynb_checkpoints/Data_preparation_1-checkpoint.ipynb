{
 "cells": [
  {
   "cell_type": "code",
   "execution_count": null,
   "id": "309f7c93",
   "metadata": {},
   "outputs": [],
   "source": [
    "import pandas as pd"
   ]
  },
  {
   "cell_type": "code",
   "execution_count": null,
   "id": "6d7b8c35",
   "metadata": {},
   "outputs": [],
   "source": [
    "df = pd.read_csv('housing_in_london_monthly_variables.csv')\n",
    "df['date'] = pd.to_datetime(df['date'])\n",
    "df['year'] = df['date'].dt.year\n",
    "\n",
    "df = df.sort_values(['area','date'])\n",
    "\n",
    "years_to_have = [1999, 2002, 2008, 2014, 2019]\n",
    "\n",
    "area_to_remove = ['east midlands',\n",
    "'east of england',\n",
    "'inner london',\n",
    "'london',\n",
    "'north east',\n",
    "'north west',\n",
    "'outer london',\n",
    "'south east',\n",
    "'south west',\n",
    "'west midlands',\n",
    "'yorks and the humber',\n",
    "'city of london']\n",
    "\n",
    "df = df[df['year'].isin(years_to_have)]\n",
    "df = df[~df['area'].isin(area_to_remove)]\n",
    "df.reset_index(drop=True, inplace=True)\n",
    "\n",
    "df.head()"
   ]
  },
  {
   "cell_type": "code",
   "execution_count": null,
   "id": "b6b6323b",
   "metadata": {},
   "outputs": [],
   "source": [
    "temp = df.groupby(['year', 'area']).first()\n",
    "temp.reset_index(drop=False, inplace=True)\n",
    "\n",
    "cols_to_drop = ['borough_flag', 'code', 'no_of_crimes']\n",
    "\n",
    "temp.drop(cols_to_drop, inplace=True, axis=1)\n",
    "temp.set_index(['date'], inplace=True)\n",
    "temp.to_csv('remove_redundant_columns_2.csv')"
   ]
  }
 ],
 "metadata": {
  "kernelspec": {
   "display_name": "Python 3 (ipykernel)",
   "language": "python",
   "name": "python3"
  },
  "language_info": {
   "codemirror_mode": {
    "name": "ipython",
    "version": 3
   },
   "file_extension": ".py",
   "mimetype": "text/x-python",
   "name": "python",
   "nbconvert_exporter": "python",
   "pygments_lexer": "ipython3",
   "version": "3.9.7"
  }
 },
 "nbformat": 4,
 "nbformat_minor": 5
}
