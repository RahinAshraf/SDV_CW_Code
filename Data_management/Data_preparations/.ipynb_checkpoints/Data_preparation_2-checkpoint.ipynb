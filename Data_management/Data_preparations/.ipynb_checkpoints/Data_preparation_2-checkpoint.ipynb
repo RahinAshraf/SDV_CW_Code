{
 "cells": [
  {
   "cell_type": "code",
   "execution_count": null,
   "id": "f63dede0",
   "metadata": {},
   "outputs": [],
   "source": [
    "import pandas as pd"
   ]
  },
  {
   "cell_type": "code",
   "execution_count": null,
   "id": "430ba67c",
   "metadata": {},
   "outputs": [],
   "source": [
    "df1 = pd.read_csv('Borough-to-Station.csv')\n",
    "cols_to_drop = ['Line(s)[*]', 'Zone(s)[†]', 'Opened[1]',\n",
    "       'Mainline', 'Other name(s)[note 2]']\n",
    "\n",
    "df1.drop(cols_to_drop, axis=1, inplace=True)\n",
    "\n",
    "df1 = df1.rename(columns={'Local Authority': 'area'})\n",
    "df1['area'] = df1['area'].str.lower()\n",
    "df1.head()"
   ]
  },
  {
   "cell_type": "code",
   "execution_count": null,
   "id": "eeb7fbb2",
   "metadata": {},
   "outputs": [],
   "source": [
    "df2 = pd.read_csv('test1.csv')\n",
    "df2['area'] = df2['area'].str.lower()\n",
    "df2['Station'] = df2['area'].map(dict(df1[['area', 'Station']].values))\n",
    "df2.set_index(['area'], inplace=True)\n",
    "df2.head()"
   ]
  },
  {
   "cell_type": "code",
   "execution_count": null,
   "id": "a7127c95",
   "metadata": {},
   "outputs": [],
   "source": [
    "df2.to_csv('remove_redundant_columns.csv')"
   ]
  }
 ],
 "metadata": {
  "kernelspec": {
   "display_name": "Python 3 (ipykernel)",
   "language": "python",
   "name": "python3"
  },
  "language_info": {
   "codemirror_mode": {
    "name": "ipython",
    "version": 3
   },
   "file_extension": ".py",
   "mimetype": "text/x-python",
   "name": "python",
   "nbconvert_exporter": "python",
   "pygments_lexer": "ipython3",
   "version": "3.9.7"
  }
 },
 "nbformat": 4,
 "nbformat_minor": 5
}
